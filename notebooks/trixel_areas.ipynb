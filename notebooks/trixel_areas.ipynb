{
 "cells": [
  {
   "cell_type": "code",
   "execution_count": 1,
   "id": "9e2d6d12-f8a7-4251-a713-40663c4a9ed1",
   "metadata": {},
   "outputs": [],
   "source": [
    "import pystare\n",
    "import numpy\n",
    "import pandas"
   ]
  },
  {
   "cell_type": "code",
   "execution_count": 2,
   "id": "2c0dc93f-aefc-4ca1-909b-010689d099be",
   "metadata": {},
   "outputs": [],
   "source": [
    "r_earth = 6371007.181 \n",
    "level = 1"
   ]
  },
  {
   "cell_type": "markdown",
   "id": "f75a597a-7603-43e2-bc8a-73d2f3e12ba3",
   "metadata": {},
   "source": [
    "# From Kuo 2017; Level 0"
   ]
  },
  {
   "cell_type": "code",
   "execution_count": 3,
   "id": "124774b0-e15e-4732-9098-746834a112ae",
   "metadata": {},
   "outputs": [
    {
     "data": {
      "text/plain": [
       "64.336441"
      ]
     },
     "execution_count": 3,
     "metadata": {},
     "output_type": "execute_result"
    }
   ],
   "source": [
    "l = 8021*1000\n",
    "a = l**2 #/ 2\n",
    "a/1000/1000/1000/1000"
   ]
  },
  {
   "cell_type": "code",
   "execution_count": 4,
   "id": "8cd85196-c609-4da1-b202-64551ef466b1",
   "metadata": {},
   "outputs": [
    {
     "data": {
      "text/plain": [
       "78.53981633974482"
      ]
     },
     "execution_count": 4,
     "metadata": {},
     "output_type": "execute_result"
    }
   ],
   "source": [
    "r = (10*1000*1000)/2\n",
    "a = numpy.pi * r**2\n",
    "a /1000 /1000 /1000/1000"
   ]
  },
  {
   "cell_type": "markdown",
   "id": "a3f8e70d-401a-457b-a98b-23f47c4ff9c7",
   "metadata": {},
   "source": [
    "# Making areas"
   ]
  },
  {
   "cell_type": "code",
   "execution_count": 5,
   "id": "aa1503f2-435b-4e98-bfd5-8ff7d783a1eb",
   "metadata": {},
   "outputs": [],
   "source": [
    "def area2edge(area):\n",
    "    return (area*2)**0.5\n",
    "\n",
    "def area2radius(area):\n",
    "    return (trixel_area/numpy.pi)**0.5"
   ]
  },
  {
   "cell_type": "code",
   "execution_count": 258,
   "id": "928fc9b4-c3bb-471f-91b8-1386be7a5c0b",
   "metadata": {},
   "outputs": [],
   "source": [
    "def meters(value):\n",
    "    value = '{:2.2e}'.format(value)\n",
    "    return r\"\\SI{\" + str(value)+ r'}{\\meter}'\n",
    "\n",
    "def squaremeter(value):\n",
    "    value = '{:2.2e}'.format(value)\n",
    "    return r\"\\SI{\" + str(value)+ r'}{\\meter\\squared}'\n",
    "\n",
    "def days(value):\n",
    "    return '{:2.2f} days'.format(value)"
   ]
  },
  {
   "cell_type": "code",
   "execution_count": 256,
   "id": "2037c8b5-9b11-409d-96d8-9bf9f747e1da",
   "metadata": {},
   "outputs": [
    {
     "name": "stdout",
     "output_type": "stream",
     "text": [
      "<class 'pandas.core.frame.DataFrame'>\n",
      "Int64Index: 7 entries, 12 to 18\n",
      "Data columns (total 6 columns):\n",
      " #   Column          Non-Null Count  Dtype  \n",
      "---  ------          --------------  -----  \n",
      " 0   Area            7 non-null      float64\n",
      " 1   Edge            7 non-null      float64\n",
      " 2   Area Naive      7 non-null      float64\n",
      " 3   Edge Naive      7 non-null      float64\n",
      " 4   Revisit Period  7 non-null      float64\n",
      " 5   n Visits        7 non-null      float64\n",
      "dtypes: float64(6)\n",
      "memory usage: 692.0 bytes\n"
     ]
    }
   ],
   "source": [
    "df.info()"
   ]
  },
  {
   "cell_type": "code",
   "execution_count": 216,
   "id": "34d8755b-9695-4076-8244-6c5a3c3b978f",
   "metadata": {},
   "outputs": [],
   "source": [
    "pandas.set_option('display.float_format', '{:2,.2E}'.format)\n",
    "pandas.set_option('display.float_format', '{:,.2f}'.format)\n",
    "#pandas.reset_option('display.float_format')"
   ]
  },
  {
   "cell_type": "code",
   "execution_count": 259,
   "id": "bc4349cd-545c-413b-9c74-26455f0f2f6f",
   "metadata": {},
   "outputs": [
    {
     "data": {
      "text/html": [
       "<div>\n",
       "<style scoped>\n",
       "    .dataframe tbody tr th:only-of-type {\n",
       "        vertical-align: middle;\n",
       "    }\n",
       "\n",
       "    .dataframe tbody tr th {\n",
       "        vertical-align: top;\n",
       "    }\n",
       "\n",
       "    .dataframe thead th {\n",
       "        text-align: right;\n",
       "    }\n",
       "</style>\n",
       "<table border=\"1\" class=\"dataframe\">\n",
       "  <thead>\n",
       "    <tr style=\"text-align: right;\">\n",
       "      <th></th>\n",
       "      <th>Area</th>\n",
       "      <th>Edge</th>\n",
       "      <th>Area Naive</th>\n",
       "      <th>Edge Naive</th>\n",
       "      <th>Revisit Period</th>\n",
       "      <th>n Visits</th>\n",
       "    </tr>\n",
       "    <tr>\n",
       "      <th>Level</th>\n",
       "      <th></th>\n",
       "      <th></th>\n",
       "      <th></th>\n",
       "      <th></th>\n",
       "      <th></th>\n",
       "      <th></th>\n",
       "    </tr>\n",
       "  </thead>\n",
       "  <tbody>\n",
       "    <tr>\n",
       "      <th>12</th>\n",
       "      <td>5,111,779.35</td>\n",
       "      <td>3,197.43</td>\n",
       "      <td>3,800,285.02</td>\n",
       "      <td>2,756.91</td>\n",
       "      <td>0.05</td>\n",
       "      <td>167,543.68</td>\n",
       "    </tr>\n",
       "    <tr>\n",
       "      <th>13</th>\n",
       "      <td>1,277,944.88</td>\n",
       "      <td>1,598.72</td>\n",
       "      <td>950,071.26</td>\n",
       "      <td>1,378.46</td>\n",
       "      <td>0.20</td>\n",
       "      <td>41,885.92</td>\n",
       "    </tr>\n",
       "    <tr>\n",
       "      <th>14</th>\n",
       "      <td>319,486.22</td>\n",
       "      <td>799.36</td>\n",
       "      <td>237,517.81</td>\n",
       "      <td>689.23</td>\n",
       "      <td>0.78</td>\n",
       "      <td>10,471.48</td>\n",
       "    </tr>\n",
       "    <tr>\n",
       "      <th>15</th>\n",
       "      <td>79,871.55</td>\n",
       "      <td>399.68</td>\n",
       "      <td>59,379.45</td>\n",
       "      <td>344.61</td>\n",
       "      <td>3.13</td>\n",
       "      <td>2,617.87</td>\n",
       "    </tr>\n",
       "    <tr>\n",
       "      <th>16</th>\n",
       "      <td>19,967.89</td>\n",
       "      <td>199.84</td>\n",
       "      <td>14,844.86</td>\n",
       "      <td>172.31</td>\n",
       "      <td>12.52</td>\n",
       "      <td>654.47</td>\n",
       "    </tr>\n",
       "    <tr>\n",
       "      <th>17</th>\n",
       "      <td>4,991.97</td>\n",
       "      <td>99.92</td>\n",
       "      <td>3,711.22</td>\n",
       "      <td>86.15</td>\n",
       "      <td>50.08</td>\n",
       "      <td>163.62</td>\n",
       "    </tr>\n",
       "    <tr>\n",
       "      <th>18</th>\n",
       "      <td>1,247.99</td>\n",
       "      <td>49.96</td>\n",
       "      <td>927.80</td>\n",
       "      <td>43.08</td>\n",
       "      <td>200.32</td>\n",
       "      <td>40.90</td>\n",
       "    </tr>\n",
       "  </tbody>\n",
       "</table>\n",
       "</div>"
      ],
      "text/plain": [
       "              Area     Edge   Area Naive  Edge Naive  Revisit Period  \\\n",
       "Level                                                                  \n",
       "12    5,111,779.35 3,197.43 3,800,285.02    2,756.91            0.05   \n",
       "13    1,277,944.88 1,598.72   950,071.26    1,378.46            0.20   \n",
       "14      319,486.22   799.36   237,517.81      689.23            0.78   \n",
       "15       79,871.55   399.68    59,379.45      344.61            3.13   \n",
       "16       19,967.89   199.84    14,844.86      172.31           12.52   \n",
       "17        4,991.97    99.92     3,711.22       86.15           50.08   \n",
       "18        1,247.99    49.96       927.80       43.08          200.32   \n",
       "\n",
       "        n Visits  \n",
       "Level             \n",
       "12    167,543.68  \n",
       "13     41,885.92  \n",
       "14     10,471.48  \n",
       "15      2,617.87  \n",
       "16        654.47  \n",
       "17        163.62  \n",
       "18         40.90  "
      ]
     },
     "execution_count": 259,
     "metadata": {},
     "output_type": "execute_result"
    }
   ],
   "source": [
    "earth_area = 4*numpy.pi * r_earth**2\n",
    "data_duration = 8194\n",
    "\n",
    "df = []\n",
    "for level in [12, 13, 14,15,16,17, 18]:\n",
    "    row = {}\n",
    "    sid = pystare.from_latlon([37.64044018272276], [-119.01422186588556], level)\n",
    "    row['Level'] = level\n",
    "    row['Area'] = (pystare.to_area(sid) * r_earth**2)[0]\n",
    "    row['Edge'] = area2edge(row['Area'])\n",
    "    row['Area Naive'] = earth_area / 8 / (4**level)\n",
    "    row['Edge Naive'] = area2edge(row['Area Naive'])\n",
    "    row['Revisit Period'] = 500**2/row['Area']\n",
    "    row['n Visits'] = data_duration / row['Revisit Period']\n",
    "    df.append(row)\n",
    "df = pandas.DataFrame(df)    \n",
    "#df = df.round(2)\n",
    "df = df.set_index('Level')\n",
    "df"
   ]
  },
  {
   "cell_type": "code",
   "execution_count": 260,
   "id": "e33e9c66-8ec6-40ba-8c84-efd246611d41",
   "metadata": {},
   "outputs": [],
   "source": [
    "df['Area'] = df['Area'].apply(squaremeter)\n",
    "df['Edge'] = df['Edge'].apply(meters)\n",
    "df['Area Naive'] = df['Area Naive'].apply(squaremeter)\n",
    "df['Edge Naive'] = df['Edge Naive'].apply(meters)\n",
    "df['Revisit Period'] = df['Revisit Period'].apply(days)\n",
    "df.to_markdown('tab.md',index=True)"
   ]
  },
  {
   "cell_type": "code",
   "execution_count": 240,
   "id": "54c3c600-eb58-4967-9127-98b392752e25",
   "metadata": {},
   "outputs": [
    {
     "data": {
      "text/html": [
       "<div>\n",
       "<style scoped>\n",
       "    .dataframe tbody tr th:only-of-type {\n",
       "        vertical-align: middle;\n",
       "    }\n",
       "\n",
       "    .dataframe tbody tr th {\n",
       "        vertical-align: top;\n",
       "    }\n",
       "\n",
       "    .dataframe thead th {\n",
       "        text-align: right;\n",
       "    }\n",
       "</style>\n",
       "<table border=\"1\" class=\"dataframe\">\n",
       "  <thead>\n",
       "    <tr style=\"text-align: right;\">\n",
       "      <th></th>\n",
       "      <th>Area</th>\n",
       "      <th>Edge</th>\n",
       "      <th>Area Naive</th>\n",
       "      <th>Edge Naive</th>\n",
       "      <th>Revisit Period</th>\n",
       "      <th>n Visits</th>\n",
       "    </tr>\n",
       "    <tr>\n",
       "      <th>Level</th>\n",
       "      <th></th>\n",
       "      <th></th>\n",
       "      <th></th>\n",
       "      <th></th>\n",
       "      <th></th>\n",
       "      <th></th>\n",
       "    </tr>\n",
       "  </thead>\n",
       "  <tbody>\n",
       "    <tr>\n",
       "      <th>12</th>\n",
       "      <td>\\SI{5.11e+06}{\\meters\\squared}</td>\n",
       "      <td>\\SI{3.20e+03}{\\meters}</td>\n",
       "      <td>\\SI{3.80e+06}{\\meters\\squared}</td>\n",
       "      <td>\\SI{2.76e+03}{\\meters}</td>\n",
       "      <td>0.05 days</td>\n",
       "      <td>167,543.68</td>\n",
       "    </tr>\n",
       "    <tr>\n",
       "      <th>13</th>\n",
       "      <td>\\SI{1.28e+06}{\\meters\\squared}</td>\n",
       "      <td>\\SI{1.60e+03}{\\meters}</td>\n",
       "      <td>\\SI{9.50e+05}{\\meters\\squared}</td>\n",
       "      <td>\\SI{1.38e+03}{\\meters}</td>\n",
       "      <td>0.20 days</td>\n",
       "      <td>41,885.92</td>\n",
       "    </tr>\n",
       "    <tr>\n",
       "      <th>14</th>\n",
       "      <td>\\SI{3.19e+05}{\\meters\\squared}</td>\n",
       "      <td>\\SI{7.99e+02}{\\meters}</td>\n",
       "      <td>\\SI{2.38e+05}{\\meters\\squared}</td>\n",
       "      <td>\\SI{6.89e+02}{\\meters}</td>\n",
       "      <td>0.78 days</td>\n",
       "      <td>10,471.48</td>\n",
       "    </tr>\n",
       "    <tr>\n",
       "      <th>15</th>\n",
       "      <td>\\SI{7.99e+04}{\\meters\\squared}</td>\n",
       "      <td>\\SI{4.00e+02}{\\meters}</td>\n",
       "      <td>\\SI{5.94e+04}{\\meters\\squared}</td>\n",
       "      <td>\\SI{3.45e+02}{\\meters}</td>\n",
       "      <td>3.13 days</td>\n",
       "      <td>2,617.87</td>\n",
       "    </tr>\n",
       "    <tr>\n",
       "      <th>16</th>\n",
       "      <td>\\SI{2.00e+04}{\\meters\\squared}</td>\n",
       "      <td>\\SI{2.00e+02}{\\meters}</td>\n",
       "      <td>\\SI{1.48e+04}{\\meters\\squared}</td>\n",
       "      <td>\\SI{1.72e+02}{\\meters}</td>\n",
       "      <td>12.52 days</td>\n",
       "      <td>654.47</td>\n",
       "    </tr>\n",
       "    <tr>\n",
       "      <th>17</th>\n",
       "      <td>\\SI{4.99e+03}{\\meters\\squared}</td>\n",
       "      <td>\\SI{9.99e+01}{\\meters}</td>\n",
       "      <td>\\SI{3.71e+03}{\\meters\\squared}</td>\n",
       "      <td>\\SI{8.62e+01}{\\meters}</td>\n",
       "      <td>50.08 days</td>\n",
       "      <td>163.62</td>\n",
       "    </tr>\n",
       "    <tr>\n",
       "      <th>18</th>\n",
       "      <td>\\SI{1.25e+03}{\\meters\\squared}</td>\n",
       "      <td>\\SI{5.00e+01}{\\meters}</td>\n",
       "      <td>\\SI{9.28e+02}{\\meters\\squared}</td>\n",
       "      <td>\\SI{4.31e+01}{\\meters}</td>\n",
       "      <td>200.32 days</td>\n",
       "      <td>40.90</td>\n",
       "    </tr>\n",
       "  </tbody>\n",
       "</table>\n",
       "</div>"
      ],
      "text/plain": [
       "                                 Area                    Edge  \\\n",
       "Level                                                           \n",
       "12     \\SI{5.11e+06}{\\meters\\squared}  \\SI{3.20e+03}{\\meters}   \n",
       "13     \\SI{1.28e+06}{\\meters\\squared}  \\SI{1.60e+03}{\\meters}   \n",
       "14     \\SI{3.19e+05}{\\meters\\squared}  \\SI{7.99e+02}{\\meters}   \n",
       "15     \\SI{7.99e+04}{\\meters\\squared}  \\SI{4.00e+02}{\\meters}   \n",
       "16     \\SI{2.00e+04}{\\meters\\squared}  \\SI{2.00e+02}{\\meters}   \n",
       "17     \\SI{4.99e+03}{\\meters\\squared}  \\SI{9.99e+01}{\\meters}   \n",
       "18     \\SI{1.25e+03}{\\meters\\squared}  \\SI{5.00e+01}{\\meters}   \n",
       "\n",
       "                           Area Naive              Edge Naive Revisit Period  \\\n",
       "Level                                                                          \n",
       "12     \\SI{3.80e+06}{\\meters\\squared}  \\SI{2.76e+03}{\\meters}      0.05 days   \n",
       "13     \\SI{9.50e+05}{\\meters\\squared}  \\SI{1.38e+03}{\\meters}      0.20 days   \n",
       "14     \\SI{2.38e+05}{\\meters\\squared}  \\SI{6.89e+02}{\\meters}      0.78 days   \n",
       "15     \\SI{5.94e+04}{\\meters\\squared}  \\SI{3.45e+02}{\\meters}      3.13 days   \n",
       "16     \\SI{1.48e+04}{\\meters\\squared}  \\SI{1.72e+02}{\\meters}     12.52 days   \n",
       "17     \\SI{3.71e+03}{\\meters\\squared}  \\SI{8.62e+01}{\\meters}     50.08 days   \n",
       "18     \\SI{9.28e+02}{\\meters\\squared}  \\SI{4.31e+01}{\\meters}    200.32 days   \n",
       "\n",
       "        n Visits  \n",
       "Level             \n",
       "12    167,543.68  \n",
       "13     41,885.92  \n",
       "14     10,471.48  \n",
       "15      2,617.87  \n",
       "16        654.47  \n",
       "17        163.62  \n",
       "18         40.90  "
      ]
     },
     "execution_count": 240,
     "metadata": {},
     "output_type": "execute_result"
    }
   ],
   "source": [
    "df"
   ]
  },
  {
   "cell_type": "code",
   "execution_count": 162,
   "id": "80386daa-8f7e-4525-93ed-8c51a36709ca",
   "metadata": {},
   "outputs": [],
   "source": [
    "# Mission duration\n",
    "md = 8194"
   ]
  },
  {
   "cell_type": "code",
   "execution_count": 48,
   "id": "81982c76-d30b-402b-ae4d-030b907d3b7d",
   "metadata": {},
   "outputs": [
    {
     "data": {
      "text/plain": [
       "50.080128205128204"
      ]
     },
     "execution_count": 48,
     "metadata": {},
     "output_type": "execute_result"
    }
   ],
   "source": [
    "# iFOV at NADIR\n",
    "(500**2/4992)"
   ]
  },
  {
   "cell_type": "code",
   "execution_count": 29,
   "id": "a96083de-0458-41fc-8e79-1712bc0cbbb8",
   "metadata": {},
   "outputs": [
    {
     "data": {
      "text/plain": [
       "97.65625"
      ]
     },
     "execution_count": 29,
     "metadata": {},
     "output_type": "execute_result"
    }
   ],
   "source": [
    "# iFOV at \n",
    "5200*1500 / 79872"
   ]
  },
  {
   "cell_type": "code",
   "execution_count": 35,
   "id": "4e8cbd77-735e-4f80-a9d7-755997ae8b6e",
   "metadata": {},
   "outputs": [
    {
     "data": {
      "text/plain": [
       "84.47422680412372"
      ]
     },
     "execution_count": 35,
     "metadata": {},
     "output_type": "execute_result"
    }
   ],
   "source": [
    "md/97"
   ]
  },
  {
   "cell_type": "code",
   "execution_count": null,
   "id": "d6fcb59c-6757-4a1a-8e24-24199a3c6407",
   "metadata": {},
   "outputs": [],
   "source": []
  }
 ],
 "metadata": {
  "kernelspec": {
   "display_name": "Python 3 (ipykernel)",
   "language": "python",
   "name": "python3"
  },
  "language_info": {
   "codemirror_mode": {
    "name": "ipython",
    "version": 3
   },
   "file_extension": ".py",
   "mimetype": "text/x-python",
   "name": "python",
   "nbconvert_exporter": "python",
   "pygments_lexer": "ipython3",
   "version": "3.10.6"
  }
 },
 "nbformat": 4,
 "nbformat_minor": 5
}
