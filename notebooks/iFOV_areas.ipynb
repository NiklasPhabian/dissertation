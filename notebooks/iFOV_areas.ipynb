{
 "cells": [
  {
   "cell_type": "code",
   "execution_count": 1,
   "id": "867b723c-d987-4b07-9027-23087b260097",
   "metadata": {},
   "outputs": [],
   "source": [
    "def transform(geom, from_epsg, to_epsg):\n",
    "    from_crs = pyproj.CRS(from_epsg)\n",
    "    to_crs = pyproj.CRS(to_epsg)\n",
    "\n",
    "    project = pyproj.Transformer.from_crs(from_crs, to_crs, always_xy=True).transform\n",
    "    return shapely.ops.transform(project, geom)"
   ]
  },
  {
   "cell_type": "code",
   "execution_count": 2,
   "id": "16076e12-e4f3-4435-9e76-81a0c3b175bc",
   "metadata": {},
   "outputs": [],
   "source": [
    "def make_ellipse(point, crs, width, height, angle):\n",
    "    transformed = transform(point, 4326, crs)\n",
    "    center_x = transformed.x\n",
    "    center_y = transformed.y\n",
    "    ellipse = matplotlib.patches.Ellipse((center_x, center_y), width, height, angle)\n",
    "    vertices = ellipse.get_verts()  # get the vertices from the ellipse object\n",
    "    ellipse = shapely.geometry.LinearRing(vertices)\n",
    "    return ellipse"
   ]
  },
  {
   "cell_type": "code",
   "execution_count": 3,
   "id": "915ba087-411f-4e59-a44d-e0e77ebb8acc",
   "metadata": {},
   "outputs": [],
   "source": [
    "max_width = 1500\n",
    "max_height = 5200"
   ]
  },
  {
   "cell_type": "code",
   "execution_count": 4,
   "id": "dbe670f7-c28a-46e2-85c7-7b5fcbc7de40",
   "metadata": {},
   "outputs": [
    {
     "ename": "NameError",
     "evalue": "name 'max_elipse' is not defined",
     "output_type": "error",
     "traceback": [
      "\u001b[0;31m---------------------------------------------------------------------------\u001b[0m",
      "\u001b[0;31mNameError\u001b[0m                                 Traceback (most recent call last)",
      "Input \u001b[0;32mIn [4]\u001b[0m, in \u001b[0;36m<cell line: 1>\u001b[0;34m()\u001b[0m\n\u001b[0;32m----> 1\u001b[0m \u001b[43mmax_elipse\u001b[49m\n",
      "\u001b[0;31mNameError\u001b[0m: name 'max_elipse' is not defined"
     ]
    }
   ],
   "source": [
    "max_elipse"
   ]
  },
  {
   "cell_type": "code",
   "execution_count": null,
   "id": "739c8f26-4024-4d60-a247-7c6128b17741",
   "metadata": {},
   "outputs": [],
   "source": [
    "make_ellipse(max_elipse['center_points'], crs=3310, height=max_height, width=max_width, angle=0)"
   ]
  },
  {
   "cell_type": "code",
   "execution_count": null,
   "id": "6f8ff115-cd36-4d26-94b3-99fc83133b17",
   "metadata": {},
   "outputs": [],
   "source": []
  }
 ],
 "metadata": {
  "kernelspec": {
   "display_name": "Python 3 (ipykernel)",
   "language": "python",
   "name": "python3"
  },
  "language_info": {
   "codemirror_mode": {
    "name": "ipython",
    "version": 3
   },
   "file_extension": ".py",
   "mimetype": "text/x-python",
   "name": "python",
   "nbconvert_exporter": "python",
   "pygments_lexer": "ipython3",
   "version": "3.10.6"
  }
 },
 "nbformat": 4,
 "nbformat_minor": 5
}
