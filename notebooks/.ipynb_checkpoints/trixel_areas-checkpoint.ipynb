{
 "cells": [
  {
   "cell_type": "code",
   "execution_count": 1,
   "id": "9e2d6d12-f8a7-4251-a713-40663c4a9ed1",
   "metadata": {},
   "outputs": [],
   "source": [
    "import pystare\n",
    "import numpy\n",
    "import pandas"
   ]
  },
  {
   "cell_type": "code",
   "execution_count": 2,
   "id": "2c0dc93f-aefc-4ca1-909b-010689d099be",
   "metadata": {},
   "outputs": [],
   "source": [
    "r_earth = 6371007.181 \n",
    "level = 1"
   ]
  },
  {
   "cell_type": "markdown",
   "id": "f75a597a-7603-43e2-bc8a-73d2f3e12ba3",
   "metadata": {},
   "source": [
    "# From Kuo 2017; Level 0"
   ]
  },
  {
   "cell_type": "code",
   "execution_count": 3,
   "id": "124774b0-e15e-4732-9098-746834a112ae",
   "metadata": {},
   "outputs": [
    {
     "data": {
      "text/plain": [
       "64.336441"
      ]
     },
     "execution_count": 3,
     "metadata": {},
     "output_type": "execute_result"
    }
   ],
   "source": [
    "l = 8021*1000\n",
    "a = l**2 #/ 2\n",
    "a/1000/1000/1000/1000"
   ]
  },
  {
   "cell_type": "code",
   "execution_count": 4,
   "id": "8cd85196-c609-4da1-b202-64551ef466b1",
   "metadata": {},
   "outputs": [
    {
     "data": {
      "text/plain": [
       "78.53981633974482"
      ]
     },
     "execution_count": 4,
     "metadata": {},
     "output_type": "execute_result"
    }
   ],
   "source": [
    "r = (10*1000*1000)/2\n",
    "a = numpy.pi * r**2\n",
    "a /1000 /1000 /1000/1000"
   ]
  },
  {
   "cell_type": "markdown",
   "id": "a3f8e70d-401a-457b-a98b-23f47c4ff9c7",
   "metadata": {},
   "source": [
    "# Making areas"
   ]
  },
  {
   "cell_type": "code",
   "execution_count": 5,
   "id": "aa1503f2-435b-4e98-bfd5-8ff7d783a1eb",
   "metadata": {},
   "outputs": [],
   "source": [
    "def area2edge(area):\n",
    "    return (area*2)**0.5\n",
    "\n",
    "def area2radius(area):\n",
    "    return (trixel_area/numpy.pi)**0.5"
   ]
  },
  {
   "cell_type": "code",
   "execution_count": 128,
   "id": "928fc9b4-c3bb-471f-91b8-1386be7a5c0b",
   "metadata": {},
   "outputs": [],
   "source": [
    "def meters(value):\n",
    "    value = '{:2e}'.format(value)\n",
    "    return r\"\\SI{\" + str(value)+ r'}{\\meters}'\n",
    "\n",
    "def squaremeter(value):\n",
    "    return r\"\\SI{\" + str(value)+ r'}{\\meters\\squared}'"
   ]
  },
  {
   "cell_type": "code",
   "execution_count": 129,
   "id": "34d8755b-9695-4076-8244-6c5a3c3b978f",
   "metadata": {},
   "outputs": [],
   "source": [
    "pandas.set_option('display.float_format', '{:2,.2E}'.format)\n",
    "#pandas.set_option('display.int_format', '{:g}'.format)"
   ]
  },
  {
   "cell_type": "code",
   "execution_count": 130,
   "id": "bc4349cd-545c-413b-9c74-26455f0f2f6f",
   "metadata": {},
   "outputs": [
    {
     "data": {
      "text/html": [
       "<div>\n",
       "<style scoped>\n",
       "    .dataframe tbody tr th:only-of-type {\n",
       "        vertical-align: middle;\n",
       "    }\n",
       "\n",
       "    .dataframe tbody tr th {\n",
       "        vertical-align: top;\n",
       "    }\n",
       "\n",
       "    .dataframe thead th {\n",
       "        text-align: right;\n",
       "    }\n",
       "</style>\n",
       "<table border=\"1\" class=\"dataframe\">\n",
       "  <thead>\n",
       "    <tr style=\"text-align: right;\">\n",
       "      <th></th>\n",
       "      <th>Area</th>\n",
       "      <th>Edge</th>\n",
       "      <th>Area Naive</th>\n",
       "      <th>Edge Naive</th>\n",
       "      <th>Revist Rate</th>\n",
       "      <th>n Visits</th>\n",
       "    </tr>\n",
       "    <tr>\n",
       "      <th>Level</th>\n",
       "      <th></th>\n",
       "      <th></th>\n",
       "      <th></th>\n",
       "      <th></th>\n",
       "      <th></th>\n",
       "      <th></th>\n",
       "    </tr>\n",
       "  </thead>\n",
       "  <tbody>\n",
       "    <tr>\n",
       "      <th>12</th>\n",
       "      <td>5.11E+06</td>\n",
       "      <td>3.20E+03</td>\n",
       "      <td>3.80E+06</td>\n",
       "      <td>2.76E+03</td>\n",
       "      <td>4.89E-02</td>\n",
       "      <td>1.68E+05</td>\n",
       "    </tr>\n",
       "    <tr>\n",
       "      <th>13</th>\n",
       "      <td>1.28E+06</td>\n",
       "      <td>1.60E+03</td>\n",
       "      <td>9.50E+05</td>\n",
       "      <td>1.38E+03</td>\n",
       "      <td>1.96E-01</td>\n",
       "      <td>4.19E+04</td>\n",
       "    </tr>\n",
       "    <tr>\n",
       "      <th>14</th>\n",
       "      <td>3.19E+05</td>\n",
       "      <td>7.99E+02</td>\n",
       "      <td>2.38E+05</td>\n",
       "      <td>6.89E+02</td>\n",
       "      <td>7.83E-01</td>\n",
       "      <td>1.05E+04</td>\n",
       "    </tr>\n",
       "    <tr>\n",
       "      <th>15</th>\n",
       "      <td>7.99E+04</td>\n",
       "      <td>4.00E+02</td>\n",
       "      <td>5.94E+04</td>\n",
       "      <td>3.45E+02</td>\n",
       "      <td>3.13E+00</td>\n",
       "      <td>2.62E+03</td>\n",
       "    </tr>\n",
       "    <tr>\n",
       "      <th>16</th>\n",
       "      <td>2.00E+04</td>\n",
       "      <td>2.00E+02</td>\n",
       "      <td>1.48E+04</td>\n",
       "      <td>1.72E+02</td>\n",
       "      <td>1.25E+01</td>\n",
       "      <td>6.54E+02</td>\n",
       "    </tr>\n",
       "    <tr>\n",
       "      <th>17</th>\n",
       "      <td>4.99E+03</td>\n",
       "      <td>9.99E+01</td>\n",
       "      <td>3.71E+03</td>\n",
       "      <td>8.62E+01</td>\n",
       "      <td>5.01E+01</td>\n",
       "      <td>1.64E+02</td>\n",
       "    </tr>\n",
       "    <tr>\n",
       "      <th>18</th>\n",
       "      <td>1.25E+03</td>\n",
       "      <td>5.00E+01</td>\n",
       "      <td>9.28E+02</td>\n",
       "      <td>4.31E+01</td>\n",
       "      <td>2.00E+02</td>\n",
       "      <td>4.09E+01</td>\n",
       "    </tr>\n",
       "  </tbody>\n",
       "</table>\n",
       "</div>"
      ],
      "text/plain": [
       "          Area     Edge  Area Naive  Edge Naive  Revist Rate  n Visits\n",
       "Level                                                                 \n",
       "12    5.11E+06 3.20E+03    3.80E+06    2.76E+03     4.89E-02  1.68E+05\n",
       "13    1.28E+06 1.60E+03    9.50E+05    1.38E+03     1.96E-01  4.19E+04\n",
       "14    3.19E+05 7.99E+02    2.38E+05    6.89E+02     7.83E-01  1.05E+04\n",
       "15    7.99E+04 4.00E+02    5.94E+04    3.45E+02     3.13E+00  2.62E+03\n",
       "16    2.00E+04 2.00E+02    1.48E+04    1.72E+02     1.25E+01  6.54E+02\n",
       "17    4.99E+03 9.99E+01    3.71E+03    8.62E+01     5.01E+01  1.64E+02\n",
       "18    1.25E+03 5.00E+01    9.28E+02    4.31E+01     2.00E+02  4.09E+01"
      ]
     },
     "execution_count": 130,
     "metadata": {},
     "output_type": "execute_result"
    }
   ],
   "source": [
    "earth_area = 4*numpy.pi * r_earth**2\n",
    "data_duration = 8194\n",
    "\n",
    "df = []\n",
    "for level in [12, 13, 14,15,16,17,18]:\n",
    "    row = {}\n",
    "    sid = pystare.from_latlon([37.64044018272276], [-119.01422186588556], level)\n",
    "    row['Level'] = level\n",
    "    row['Area'] = (pystare.to_area(sid) * r_earth**2)[0]\n",
    "    row['Edge'] = area2edge(row['Area'])\n",
    "    row['Area Naive'] = earth_area / 8 / (4**level)\n",
    "    row['Edge Naive'] = area2edge(row['Area Naive'])\n",
    "    row['Revist Rate'] = 500**2/row['Area']\n",
    "    row['n Visits'] = data_duration / row['Revist Rate']\n",
    "    df.append(row)\n",
    "df = pandas.DataFrame(df)    \n",
    "\n",
    "#df = df.astype(str)\n",
    "df = df.set_index('Level')\n",
    "df"
   ]
  },
  {
   "cell_type": "code",
   "execution_count": 131,
   "id": "e33e9c66-8ec6-40ba-8c84-efd246611d41",
   "metadata": {},
   "outputs": [],
   "source": [
    "df['Area'] = df['Area'].apply(squaremeter)\n",
    "df['Edge'] = df['Edge'].apply(meters)\n",
    "df['Area Naive'] = df['Area Naive'].apply(squaremeter)\n",
    "df['Edge Naive'] = df['Edge Naive'].apply(meters)\n",
    "df.to_markdown('tab.md',index=True)"
   ]
  },
  {
   "cell_type": "code",
   "execution_count": 30,
   "id": "80386daa-8f7e-4525-93ed-8c51a36709ca",
   "metadata": {},
   "outputs": [],
   "source": [
    "# Mission duration\n",
    "md = 8194"
   ]
  },
  {
   "cell_type": "code",
   "execution_count": 48,
   "id": "81982c76-d30b-402b-ae4d-030b907d3b7d",
   "metadata": {},
   "outputs": [
    {
     "data": {
      "text/plain": [
       "50.080128205128204"
      ]
     },
     "execution_count": 48,
     "metadata": {},
     "output_type": "execute_result"
    }
   ],
   "source": [
    "# iFOV at NADIR\n",
    "(500**2/4992)"
   ]
  },
  {
   "cell_type": "code",
   "execution_count": 29,
   "id": "a96083de-0458-41fc-8e79-1712bc0cbbb8",
   "metadata": {},
   "outputs": [
    {
     "data": {
      "text/plain": [
       "97.65625"
      ]
     },
     "execution_count": 29,
     "metadata": {},
     "output_type": "execute_result"
    }
   ],
   "source": [
    "# iFOV at \n",
    "5200*1500 / 79872"
   ]
  },
  {
   "cell_type": "code",
   "execution_count": 35,
   "id": "4e8cbd77-735e-4f80-a9d7-755997ae8b6e",
   "metadata": {},
   "outputs": [
    {
     "data": {
      "text/plain": [
       "84.47422680412372"
      ]
     },
     "execution_count": 35,
     "metadata": {},
     "output_type": "execute_result"
    }
   ],
   "source": [
    "md/97"
   ]
  },
  {
   "cell_type": "code",
   "execution_count": null,
   "id": "d6fcb59c-6757-4a1a-8e24-24199a3c6407",
   "metadata": {},
   "outputs": [],
   "source": []
  }
 ],
 "metadata": {
  "kernelspec": {
   "display_name": "Python 3 (ipykernel)",
   "language": "python",
   "name": "python3"
  },
  "language_info": {
   "codemirror_mode": {
    "name": "ipython",
    "version": 3
   },
   "file_extension": ".py",
   "mimetype": "text/x-python",
   "name": "python",
   "nbconvert_exporter": "python",
   "pygments_lexer": "ipython3",
   "version": "3.10.4"
  }
 },
 "nbformat": 4,
 "nbformat_minor": 5
}
